{
  "nbformat": 4,
  "nbformat_minor": 0,
  "metadata": {
    "colab": {
      "provenance": []
    },
    "kernelspec": {
      "name": "python3",
      "display_name": "Python 3"
    },
    "language_info": {
      "name": "python"
    }
  },
  "cells": [
    {
      "cell_type": "code",
      "source": [
        "\n",
        "%%writefile app.py\n",
        "import pickle\n",
        "from sklearn.metrics.pairwise import cosine_similarity\n",
        "import streamlit as st\n",
        "import json\n",
        "\n",
        "with open(\"data.pkl\", \"rb\") as file:\n",
        "    df = pickle.load(file)\n",
        "\n",
        "clothing_descriptions = pickle.load(open('clothing_descriptions.pkl','rb'))\n",
        "model = pickle.load(open('tfidf1.pkl','rb'))\n",
        "model.fit(clothing_descriptions)\n",
        "tfidf_vectors = model.transform(clothing_descriptions)\n",
        "cosine_sim_matrix = cosine_similarity(tfidf_vectors, tfidf_vectors)\n",
        "\n",
        "def get_top_similar_items(query, k):\n",
        "    query_vector = model.transform([query])\n",
        "    cosine_sim_scores = cosine_similarity(query_vector, tfidf_vectors)[0]\n",
        "    top_indices = cosine_sim_scores.argsort()[-k:][::-1]\n",
        "    top_similar_items = df.iloc[top_indices]\n",
        "    top_similar_items = top_similar_items[['product_name', 'product_url']]\n",
        "    output = []\n",
        "    for _, row in top_similar_items.iterrows():\n",
        "        item = {\n",
        "            'product_name': row['product_name'],\n",
        "            'url': row['product_url']\n",
        "        }\n",
        "        output.append(item)\n",
        "    \n",
        "    return json.dumps(output)\n",
        "st.title(\"Similar clothing\")\n",
        "input = st.text_input(\"Query\")\n",
        "k = st.number_input('Number of similar items required', min_value=1, max_value=500, value=5, step=1)\n",
        "\n",
        "if st.button('search'):\n",
        "    output = get_top_similar_items(input,k)\n",
        "    st.json(output)\n",
        "\n"
      ],
      "metadata": {
        "colab": {
          "base_uri": "https://localhost:8080/"
        },
        "id": "bAvBuFcKyO6P",
        "outputId": "65d849bd-c13e-4cf9-cc35-d77d5ca4bee9"
      },
      "execution_count": null,
      "outputs": [
        {
          "output_type": "stream",
          "name": "stdout",
          "text": [
            "Overwriting app.py\n"
          ]
        }
      ]
    },
    {
      "cell_type": "code",
      "source": [
        "!streamlit run /content/app.py &>/content/logs.txt & curl ipv4.icanhazip.com"
      ],
      "metadata": {
        "colab": {
          "base_uri": "https://localhost:8080/"
        },
        "id": "0-C7ob-Izyed",
        "outputId": "0c12aca9-2880-4668-8020-084685fa48ba"
      },
      "execution_count": null,
      "outputs": [
        {
          "output_type": "stream",
          "name": "stdout",
          "text": [
            "34.86.159.85\n"
          ]
        }
      ]
    },
    {
      "cell_type": "code",
      "source": [
        "!npx localtunnel --port 8501"
      ],
      "metadata": {
        "colab": {
          "base_uri": "https://localhost:8080/"
        },
        "id": "XkEFAX2ez0V9",
        "outputId": "21c026d7-2a74-4158-ba68-56e1320e1d6a"
      },
      "execution_count": null,
      "outputs": [
        {
          "output_type": "stream",
          "name": "stdout",
          "text": [
            "\u001b[K\u001b[?25hnpx: installed 22 in 1.939s\n",
            "your url is: https://two-kiwis-stick.loca.lt\n",
            "^C\n"
          ]
        }
      ]
    },
    {
      "cell_type": "code",
      "source": [
        "pip freeze > requirements.txt\n"
      ],
      "metadata": {
        "id": "pujDd7d7bV3I"
      },
      "execution_count": null,
      "outputs": []
    },
    {
      "cell_type": "code",
      "source": [
        "!docker build -t streamlit-app ."
      ],
      "metadata": {
        "colab": {
          "base_uri": "https://localhost:8080/"
        },
        "id": "jhxU04iYkLjZ",
        "outputId": "eb847ad2-e71d-4fb8-ef6e-c628c9345678"
      },
      "execution_count": null,
      "outputs": [
        {
          "output_type": "stream",
          "name": "stdout",
          "text": [
            "Cannot connect to the Docker daemon at unix:///var/run/docker.sock. Is the docker daemon running?\n"
          ]
        }
      ]
    }
  ]
}