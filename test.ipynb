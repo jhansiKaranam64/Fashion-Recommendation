{
  "nbformat": 4,
  "nbformat_minor": 0,
  "metadata": {
    "colab": {
      "provenance": []
    },
    "kernelspec": {
      "name": "python3",
      "display_name": "Python 3"
    },
    "language_info": {
      "name": "python"
    }
  },
  "cells": [
    {
      "cell_type": "code",
      "execution_count": null,
      "metadata": {
        "id": "IvhAO8uIk1u5"
      },
      "outputs": [],
      "source": [
        "import pickle\n",
        "from sklearn.metrics.pairwise import cosine_similarity\n",
        "import json"
      ]
    },
    {
      "cell_type": "code",
      "source": [
        "# Load DataFrame from pickle\n",
        "with open(\"data.pkl\", \"rb\") as file:\n",
        "    df = pickle.load(file)\n",
        "\n",
        "clothing_descriptions = pickle.load(open('clothing_descriptions.pkl','rb'))\n",
        "model = pickle.load(open('tfidf1.pkl','rb'))\n",
        "model.fit(clothing_descriptions)\n",
        "\n",
        "# Transform the clothing item descriptions into TF-IDF vectors\n",
        "tfidf_vectors = vectorizer.transform(clothing_descriptions)\n",
        "\n",
        "# Calculate cosine similarity matrix\n",
        "cosine_sim_matrix = cosine_similarity(tfidf_vectors, tfidf_vectors)\n",
        "\n",
        "# Function to get top-K similar items\n",
        "def get_top_similar_items(query, k):\n",
        "    # Transform the query into a TF-IDF vector\n",
        "    query_vector = vectorizer.transform([query])\n",
        "\n",
        "    # Calculate the cosine similarity between the query vector and all clothing items\n",
        "    cosine_sim_scores = cosine_similarity(query_vector, tfidf_vectors)[0]\n",
        "\n",
        "    # Get indices of top-K most similar items\n",
        "    top_indices = cosine_sim_scores.argsort()[-k:][::-1]\n",
        "\n",
        "    # Get the descriptions and links of top-K similar items\n",
        "    top_similar_items = df.iloc[top_indices]\n",
        "\n",
        "    top_similar_items = top_similar_items[['product_name', 'product_url']]\n",
        "    output = []\n",
        "    for _, row in top_similar_items.iterrows():\n",
        "        item = {\n",
        "            'product_name': row['product_name'],\n",
        "            'url': row['product_url']\n",
        "        }\n",
        "        output.append(item)\n",
        "    \n",
        "    return json.dumps(output)\n",
        "    "
      ],
      "metadata": {
        "id": "oaKMsbjblRK2"
      },
      "execution_count": null,
      "outputs": []
    },
    {
      "cell_type": "code",
      "source": [
        "query = input(\"Enter the String \")\n",
        "n=int(input(\"Enter number of similar items wanted \"))\n",
        "top_similar_items = get_top_similar_items(query, k=n)\n",
        "print(top_similar_items)"
      ],
      "metadata": {
        "colab": {
          "base_uri": "https://localhost:8080/"
        },
        "id": "EUVVtN-GrZIu",
        "outputId": "032f7f5d-0120-47ae-d6b0-d891da77cacf"
      },
      "execution_count": null,
      "outputs": [
        {
          "output_type": "stream",
          "name": "stdout",
          "text": [
            "Enter the String t-shirt\n",
            "Enter number of similar items wanted 5\n",
            "[{\"product_name\": \"Women Shirt\", \"url\": \"https://www.amazon.in/Max-Womens-Regular-T-Shirt-SP23YCPEPP01BLACK_Black/dp/B0BQYX55X7/ref=sr_1_18?pf_rd_i=1953602031&pf_rd_m=A1VBAL9TL5WCBF&pf_rd_p=e32e6331-9e48-4e1b-a06b-312e47245419&pf_rd_r=9BDS09TM3A0KRGPC6GW1&pf_rd_s=merchandised-search-1&qid=1684685378&refinements=p_85%3A10440599031%2Cp_89%3AAND%7CAurelia%7CBIBA%7CClovia%7CJanasya%7CMax%7CMiss+Chase%7CONLY%7CPepe+Jeans%7CPuma%7CSoch%7CSpykar%7CThe+Souled+Store%7CTommy+Hilfiger%7CU.S.+POLO+ASSN.%7CUnited+Colors+of+Benetton%7CVERO+MODA%7CVan+Heusen%7CW+for+Woman%7Cglobal+desi&rnid=3837712031&rps=1&s=apparel&sr=1-18\"}, {\"product_name\": \"Women Shirt\", \"url\": \"https://www.amazon.in/Max-Womens-Regular-T-Shirt-SP23YCPEPP02PEACH_Peach/dp/B0BQYWJ413/ref=sr_1_51?pf_rd_i=1953602031&pf_rd_m=A1VBAL9TL5WCBF&pf_rd_p=e32e6331-9e48-4e1b-a06b-312e47245419&pf_rd_r=9BDS09TM3A0KRGPC6GW1&pf_rd_s=merchandised-search-1&qid=1684685393&refinements=p_85%3A10440599031%2Cp_89%3AAND%7CAurelia%7CBIBA%7CClovia%7CJanasya%7CMax%7CMiss+Chase%7CONLY%7CPepe+Jeans%7CPuma%7CSoch%7CSpykar%7CThe+Souled+Store%7CTommy+Hilfiger%7CU.S.+POLO+ASSN.%7CUnited+Colors+of+Benetton%7CVERO+MODA%7CVan+Heusen%7CW+for+Woman%7Cglobal+desi&rnid=3837712031&rps=1&s=apparel&sr=1-51\"}, {\"product_name\": \"Women Shirt\", \"url\": \"https://www.amazon.in/Max-Womens-Regular-T-Shirt-SP23YBAOP04WHITE_White/dp/B0BQYWQ9TK/ref=sr_1_33?pf_rd_i=1953602031&pf_rd_m=A1VBAL9TL5WCBF&pf_rd_p=e32e6331-9e48-4e1b-a06b-312e47245419&pf_rd_r=9BDS09TM3A0KRGPC6GW1&pf_rd_s=merchandised-search-1&qid=1684685397&refinements=p_85%3A10440599031%2Cp_89%3AAND%7CAurelia%7CBIBA%7CClovia%7CJanasya%7CMax%7CMiss+Chase%7CONLY%7CPepe+Jeans%7CPuma%7CSoch%7CSpykar%7CThe+Souled+Store%7CTommy+Hilfiger%7CU.S.+POLO+ASSN.%7CUnited+Colors+of+Benetton%7CVERO+MODA%7CVan+Heusen%7CW+for+Woman%7Cglobal+desi&rnid=3837712031&rps=1&s=apparel&sr=1-33\"}, {\"product_name\": \"Women Shirt\", \"url\": \"https://www.amazon.in/Max-Womens-Regular-T-Shirt-SP23YCPEPP01BLACK_Black/dp/B0BQYX55X7/ref=sr_1_18?pf_rd_i=1953602031&pf_rd_m=A1VBAL9TL5WCBF&pf_rd_p=e32e6331-9e48-4e1b-a06b-312e47245419&pf_rd_r=9BDS09TM3A0KRGPC6GW1&pf_rd_s=merchandised-search-1&qid=1684685263&refinements=p_85%3A10440599031%2Cp_89%3AAND%7CAurelia%7CBIBA%7CClovia%7CJanasya%7CMax%7CMiss+Chase%7CONLY%7CPepe+Jeans%7CPuma%7CSoch%7CSpykar%7CThe+Souled+Store%7CTommy+Hilfiger%7CU.S.+POLO+ASSN.%7CUnited+Colors+of+Benetton%7CVERO+MODA%7CVan+Heusen%7CW+for+Woman%7Cglobal+desi&rnid=3837712031&rps=1&s=apparel&sr=1-18\"}, {\"product_name\": \"Women Shirt\", \"url\": \"https://www.amazon.in/Womens-Regular-Shirt-SS23AG079TBD_SEA-Green/dp/B0BRVP1BMB/ref=sr_1_90?pf_rd_i=1953602031&pf_rd_m=A1VBAL9TL5WCBF&pf_rd_p=e32e6331-9e48-4e1b-a06b-312e47245419&pf_rd_r=9BDS09TM3A0KRGPC6GW1&pf_rd_s=merchandised-search-1&qid=1684685374&refinements=p_85%3A10440599031%2Cp_89%3AAND%7CAurelia%7CBIBA%7CClovia%7CJanasya%7CMax%7CMiss+Chase%7CONLY%7CPepe+Jeans%7CPuma%7CSoch%7CSpykar%7CThe+Souled+Store%7CTommy+Hilfiger%7CU.S.+POLO+ASSN.%7CUnited+Colors+of+Benetton%7CVERO+MODA%7CVan+Heusen%7CW+for+Woman%7Cglobal+desi&rnid=3837712031&rps=1&s=apparel&sr=1-90\"}]\n"
          ]
        }
      ]
    }
  ]
}